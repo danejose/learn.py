{
  "nbformat": 4,
  "nbformat_minor": 0,
  "metadata": {
    "colab": {
      "name": "danejose_learn.py day -5.ipynb",
      "provenance": []
    },
    "kernelspec": {
      "name": "python3",
      "display_name": "Python 3"
    },
    "language_info": {
      "name": "python"
    }
  },
  "cells": [
    {
      "cell_type": "markdown",
      "metadata": {
        "id": "Gu_sxK-id8Zw"
      },
      "source": [
        "1.Given a list l=[23, 45, 25 ,78, 90, 45, 22, 56, 99, 12, 9, 75, 32]\n",
        "\n",
        "Write a single line program to display.\n",
        "\n",
        "a) elements at even index in the list.\n",
        "\n",
        "b) remove the 3 middle elements (45, 22 and 56)"
      ]
    },
    {
      "cell_type": "code",
      "metadata": {
        "id": "hiAZt40tgbu8",
        "colab": {
          "base_uri": "https://localhost:8080/"
        },
        "outputId": "e4f683db-dbda-422f-b78c-3599f9e43b0f"
      },
      "source": [
        "#please write the code below this line\n",
        "i = [23,45,25,78,90,45,22,99,12,9,75,32]\n",
        "i\n",
        "del i[5]\n",
        "del i[6]\n",
        "del i[7]\n",
        "i\n"
      ],
      "execution_count": null,
      "outputs": [
        {
          "output_type": "execute_result",
          "data": {
            "text/plain": [
              "[23, 45, 25, 78, 90, 22, 12, 75, 32]"
            ]
          },
          "metadata": {
            "tags": []
          },
          "execution_count": 7
        }
      ]
    },
    {
      "cell_type": "markdown",
      "metadata": {
        "id": "EyjCDxcygv2C"
      },
      "source": [
        "2.Given a list lowerCase=['a', 'e', 'i', 'o', 'u']\n",
        "Create a new list upperCase using list comprehension and copy the content of the lowerCase list, but in uppercase (capital letters). (upperCase should be ['A', 'E', 'I', 'O', 'U'])"
      ]
    },
    {
      "cell_type": "code",
      "metadata": {
        "id": "-HhhWi7jhGIj",
        "colab": {
          "base_uri": "https://localhost:8080/"
        },
        "outputId": "ad9b7240-c226-4c2c-9d2b-e2c3ce3b567c"
      },
      "source": [
        "#please write the code below this line\n",
        "lowerCase = ['a','e','i','o','u']\n",
        "lowerCase\n",
        "upperCase = [x.upper() for x in lowerCase]\n",
        "upperCase"
      ],
      "execution_count": null,
      "outputs": [
        {
          "output_type": "execute_result",
          "data": {
            "text/plain": [
              "['A', 'E', 'I', 'O', 'U']"
            ]
          },
          "metadata": {
            "tags": []
          },
          "execution_count": 9
        }
      ]
    },
    {
      "cell_type": "markdown",
      "metadata": {
        "id": "YkTzwuJphPxV"
      },
      "source": [
        "3.Given a tuple fruits = (\"banana\", \"cherry\", \"apple\", \"grapes\")\n",
        "Create 3 variables yellow, red and green and assign them with fruits of their respective color.\n",
        "(yellow=\"banana\", red=[\"cherry\", \"apple\"], green=\"grapes (hint- Use unpacking)"
      ]
    },
    {
      "cell_type": "code",
      "metadata": {
        "id": "cSaKkX2mh33Q",
        "colab": {
          "base_uri": "https://localhost:8080/"
        },
        "outputId": "66d1fe70-18c6-4a63-e6d9-f8018b1a5eab"
      },
      "source": [
        "#please write the code below this line\n",
        "tup = [\"banana\",\"grapes\",\"cherry\",\"apple\"]\n",
        "yellow,green,*red = tup\n",
        "print(red)\n",
        "print(green)\n",
        "print(yellow)\n",
        "\n",
        "\n"
      ],
      "execution_count": null,
      "outputs": [
        {
          "output_type": "stream",
          "text": [
            "['cherry', 'apple']\n",
            "grapes\n",
            "banana\n"
          ],
          "name": "stdout"
        }
      ]
    }
  ]
}