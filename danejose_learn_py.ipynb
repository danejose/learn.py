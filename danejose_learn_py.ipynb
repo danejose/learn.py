{
  "nbformat": 4,
  "nbformat_minor": 0,
  "metadata": {
    "colab": {
      "name": "danejose_learn.py.ipynb",
      "provenance": [],
      "collapsed_sections": []
    },
    "kernelspec": {
      "name": "python3",
      "display_name": "Python 3"
    },
    "language_info": {
      "name": "python"
    }
  },
  "cells": [
    {
      "cell_type": "markdown",
      "metadata": {
        "id": "q-yWxfWESiQo"
      },
      "source": [
        "1.Write a program that uses input to prompt a user for their name and then welcomes them."
      ]
    },
    {
      "cell_type": "code",
      "metadata": {
        "id": "9ikpRxqMSxu0",
        "colab": {
          "base_uri": "https://localhost:8080/"
        },
        "outputId": "d227ce8c-cddb-4cbe-c973-53ea161c937d"
      },
      "source": [
        "#please provide your answer here below this line\n",
        "Name= input(\"Enter you good name: \")\n",
        "print(\"Hi \" + Name + \" Welcome to learn.py\")"
      ],
      "execution_count": 3,
      "outputs": [
        {
          "output_type": "stream",
          "text": [
            "Enter you good name: Dane\n",
            "Hi Dane Welcome to learn.py\n"
          ],
          "name": "stdout"
        }
      ]
    },
    {
      "cell_type": "markdown",
      "metadata": {
        "id": "Ay5OdxguS-2Z"
      },
      "source": [
        "2.Write a program which prompts the user for a Celsius temperature, convert the temperature to Fahrenheit, and print out the converted temperature."
      ]
    },
    {
      "cell_type": "code",
      "metadata": {
        "id": "MMv2yWNtTgEu",
        "colab": {
          "base_uri": "https://localhost:8080/"
        },
        "outputId": "ac1ff024-4bba-4328-8435-52baddd5badb"
      },
      "source": [
        "#please provide your answer here below this line\n",
        "Celsius = float(input(\"Enter the temperature in celsius : \"))\n",
        "Fahrenheit= float(Celsius*9/5+32)\n",
        "print(str(Celsius) + \" degree celsius = \" +str(Fahrenheit) +\" degree fahrenheit\")\n"
      ],
      "execution_count": 5,
      "outputs": [
        {
          "output_type": "stream",
          "text": [
            "Enter the temperature in celsius : 444\n",
            "444.0 degree celsius = 831.2 degree fahrenheit\n"
          ],
          "name": "stdout"
        }
      ]
    },
    {
      "cell_type": "markdown",
      "metadata": {
        "id": "v6O1a198TpNd"
      },
      "source": [
        "3.Write a Python program to convert degree to radian."
      ]
    },
    {
      "cell_type": "code",
      "metadata": {
        "id": "27Jj4_D0UQBA",
        "colab": {
          "base_uri": "https://localhost:8080/"
        },
        "outputId": "478526f6-2420-4b01-e007-6ae3485d09f6"
      },
      "source": [
        "#please provide your answer here below this line\n",
        "Degree = float(input(\"Enter the measurement in degrees \"))\n",
        "Radian = float(Degree*(22/7)/180)\n",
        "print(str(Degree) + \"Deg = \" + str(Radian) + \"Rad\")"
      ],
      "execution_count": 7,
      "outputs": [
        {
          "output_type": "stream",
          "text": [
            "Enter the measurement in degrees 99\n",
            "99.0Deg = 1.7285714285714284Rad\n"
          ],
          "name": "stdout"
        }
      ]
    }
  ]
}