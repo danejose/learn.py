{
  "nbformat": 4,
  "nbformat_minor": 0,
  "metadata": {
    "colab": {
      "name": "danejose_learn.py-day3.ipynb",
      "provenance": []
    },
    "kernelspec": {
      "name": "python3",
      "display_name": "Python 3"
    },
    "language_info": {
      "name": "python"
    }
  },
  "cells": [
    {
      "cell_type": "markdown",
      "metadata": {
        "id": "z20IIB0eUQMN"
      },
      "source": [
        "1 - Write a program which takes a number as input from the user and check whether the number is odd or even.If odd print the number is odd if not print it is even."
      ]
    },
    {
      "cell_type": "code",
      "metadata": {
        "id": "dVgGJ-wTVRit",
        "colab": {
          "base_uri": "https://localhost:8080/"
        },
        "outputId": "71b08526-7f98-40d6-ce83-5d97ad6b0741"
      },
      "source": [
        "#please enter your answer below this line\n",
        "num = int(input(\"Enter a number: \"))\n",
        "if (num % 2) == 0:\n",
        "    print(\"even\".format(num))\n",
        "else:\n",
        "      print(\"odd\".format(num))"
      ],
      "execution_count": null,
      "outputs": [
        {
          "output_type": "stream",
          "text": [
            "Enter a number: 3\n",
            "odd\n"
          ],
          "name": "stdout"
        }
      ]
    },
    {
      "cell_type": "markdown",
      "metadata": {
        "id": "7778XD8PVblj"
      },
      "source": [
        "2 -Write a program to find the largest among three numbers and print the largest number."
      ]
    },
    {
      "cell_type": "code",
      "metadata": {
        "id": "m0tUOkOFWR-d",
        "colab": {
          "base_uri": "https://localhost:8080/"
        },
        "outputId": "c91f6618-0e5a-42c5-9688-3d3ac8d76988"
      },
      "source": [
        "#please enter your answer below this line\n",
        "number1=int(input(\"Enter 1st number : \"))\n",
        "number2=int(input(\"Enter 2nd number : \"))\n",
        "number3=int(input(\"Enter 3rd number : \"))\n",
        "if (number1 >= number2) and (number1 >= number3):\n",
        "  big   = number1\n",
        "elif (number2 >= number1) and (number2 >= number3): \n",
        "  big   = number2\n",
        "else:\n",
        "  big=number3\n",
        "  print(\"Big\",big)"
      ],
      "execution_count": 5,
      "outputs": [
        {
          "output_type": "stream",
          "text": [
            "Enter 1st number : 11\n",
            "Enter 2nd number : 33\n",
            "Enter 3rd number : 88\n",
            "Big 88\n"
          ],
          "name": "stdout"
        }
      ]
    },
    {
      "cell_type": "markdown",
      "metadata": {
        "id": "Jg2Ns4OQWaJy"
      },
      "source": [
        "3 -Write a function to prompt for a score between 0.0 and 1.0.\n",
        "\n",
        "    If the score is out of range, print an error.\n",
        "    If the score is between 0.0 and 1.0, print a grade using the following table:\n",
        "    Score Grade\n",
        "             Score\tGrade\n",
        "            >= 0.9\tA\n",
        "            >= 0.8\tB\n",
        "            >= 0.7\tC\n",
        "            >= 0.6\tD\n",
        "             < 0.6\tF\n",
        "If the user enters a value out of range, print a suitable error message and exit. For the test, enter a score of 0.85."
      ]
    },
    {
      "cell_type": "code",
      "metadata": {
        "id": "6DLbGe6XXZPx",
        "colab": {
          "base_uri": "https://localhost:8080/"
        },
        "outputId": "00b54a2c-9094-40ba-cb90-465b0f1b3a22"
      },
      "source": [
        "#please enter your answer below this line\n",
        "mark= float(input(\"Enter the mark: \"))\n",
        "if (mark<=10.0) and (mark>=9.0):\n",
        "  print(\"Grade is A \",mark)\n",
        "elif (mark<=8.0) and (mark>=7.0):\n",
        "  print(\"Grade is B \",mark)\n",
        "elif (mark<=7.0) and (mark>=6.0):\n",
        "  print(\"Grade is C \",mark)\n",
        "elif (mark<=6.0) and (mark>=5.0):\n",
        "  print(\"Grade is D \",mark)\n",
        "elif (mark<=5.0) and (mark>=4.0):\n",
        "  print(\"Grade is E \",mark)\n",
        "else:\n",
        "  print(\"Invalid Input\",mark)"
      ],
      "execution_count": 35,
      "outputs": [
        {
          "output_type": "stream",
          "text": [
            "Enter the mark: 11\n",
            "Invalid Input 11.0\n"
          ],
          "name": "stdout"
        }
      ]
    },
    {
      "cell_type": "markdown",
      "metadata": {
        "id": "-o0scDq7WkVT"
      },
      "source": [
        ""
      ]
    }
  ]
}