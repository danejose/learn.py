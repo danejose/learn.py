{
  "nbformat": 4,
  "nbformat_minor": 0,
  "metadata": {
    "colab": {
      "name": "danejose_learn.py day 4",
      "provenance": []
    },
    "kernelspec": {
      "name": "python3",
      "display_name": "Python 3"
    },
    "language_info": {
      "name": "python"
    }
  },
  "cells": [
    {
      "cell_type": "markdown",
      "metadata": {
        "id": "jhLooYoXnjso"
      },
      "source": [
        "1. Create a dictionary that contains \n",
        "            name = Alex Ryder\n",
        "            age  = 28\n",
        "Update the age to 32 and another element to the dictionary\n",
        "            age = 32\n",
        "            town = calicut\n",
        "Expected output\n",
        "            {'name': 'Alex Ryder', 'age': 32, 'town': 'calicut'}"
      ]
    },
    {
      "cell_type": "code",
      "metadata": {
        "id": "EE8jp4PMpp4Q",
        "colab": {
          "base_uri": "https://localhost:8080/"
        },
        "outputId": "7f3699d1-90ad-4747-a772-81b66856962a"
      },
      "source": [
        "#please enter your answer below this line\n",
        "My_Prof = {'Name': 'Alex Ryder' , 'Age' : 28}\n",
        "My_Prof['Age'] = 32\n",
        "My_Prof['Town'] = 'Calicut'\n",
        "print(My_Prof)\n"
      ],
      "execution_count": 1,
      "outputs": [
        {
          "output_type": "stream",
          "text": [
            "{'Name': 'Alex Ryder', 'Age': 32, 'Town': 'Calicut'}\n"
          ],
          "name": "stdout"
        }
      ]
    },
    {
      "cell_type": "markdown",
      "metadata": {
        "id": "nM1kmYmKqFwT"
      },
      "source": [
        "2. Create a dictionary containing the squares of numbers from 1 to 5.\n",
        "Expected output\n",
        "            {1: 1, 2: 4, 3: 9, 4: 16, 5: 15}\n",
        "\n",
        "From this dictionary remove the item 3 and its square.\n",
        "\n",
        "Expected output\n",
        "                    \n",
        "                {1: 1, 2: 4, 4: 16, 5: 15}\n",
        "\n",
        "Now remove all items from the dictionary.\n",
        "\n",
        "Expected output\n",
        "\n",
        "      {}\n",
        "\n",
        "Now delete the dictionary itself.\n",
        "\n",
        "          "
      ]
    },
    {
      "cell_type": "code",
      "metadata": {
        "id": "VL312SCHygzS",
        "colab": {
          "base_uri": "https://localhost:8080/"
        },
        "outputId": "b834c1c5-a544-4cc2-8137-e61361074eaa"
      },
      "source": [
        "#please enter your answer below this line\n",
        "Square = {1:1, 2:4, 3:9, 4:16, 5:25}\n",
        "print(Square)\n",
        "Square.pop(3)\n",
        "print(Square)\n",
        "Square.clear()\n",
        "print(Square)\n",
        "\n",
        "\n"
      ],
      "execution_count": 3,
      "outputs": [
        {
          "output_type": "stream",
          "text": [
            "{1: 1, 2: 4, 3: 9, 4: 16, 5: 25}\n",
            "{1: 1, 2: 4, 4: 16, 5: 25}\n",
            "{}\n"
          ],
          "name": "stdout"
        }
      ]
    },
    {
      "cell_type": "markdown",
      "metadata": {
        "id": "GaJF8GEPzDQN"
      },
      "source": [
        "3. Make a set containing the elements 1, hello, (0,1,2).\n",
        "\n",
        "Expected output\n",
        "            \n",
        "            {'hello', 1, (0, 1, 2)}\n",
        "\n",
        "Now add the value 6 to the set.\n",
        "\n",
        "Expected output\n",
        "\n",
        "        {'hello', 1, (0, 1, 2), 6}\n",
        "\n",
        "\n",
        "\n"
      ]
    },
    {
      "cell_type": "code",
      "metadata": {
        "id": "RlKGp2E31rZB",
        "colab": {
          "base_uri": "https://localhost:8080/"
        },
        "outputId": "ded4405f-2211-4964-e0fe-f5bbc02785fd"
      },
      "source": [
        "#please enter your answer below the line\n",
        "My_set = {1, \"hello\", (0, 1, 2)}\n",
        "print(My_set)\n",
        "My_set.add(6)\n",
        "print(My_set)"
      ],
      "execution_count": 4,
      "outputs": [
        {
          "output_type": "stream",
          "text": [
            "{(0, 1, 2), 1, 'hello'}\n",
            "{(0, 1, 2), 1, 'hello', 6}\n"
          ],
          "name": "stdout"
        }
      ]
    }
  ]
}